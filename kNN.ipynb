{
 "cells": [
  {
   "cell_type": "markdown",
   "metadata": {
    "id": "SEBdM4UGB9FH"
   },
   "source": [
    "<font size = 8 color ='336EFF'>kNN</font>\n",
    "\n",
    "\n",
    "\n",
    "---\n",
    "### Héctor Hibran Tapia Fernández - A01661114\n",
    "---"
   ]
  },
  {
   "cell_type": "markdown",
   "metadata": {
    "id": "H-LmSanP1W6K"
   },
   "source": [
    "Import Relevant Libraries\n",
    "\n",
    "\n",
    "---\n",
    "\n"
   ]
  },
  {
   "cell_type": "code",
   "execution_count": 1,
   "metadata": {
    "id": "7JNPfNBFpySG"
   },
   "outputs": [],
   "source": [
    "import random\n",
    "import numpy as np\n",
    "import matplotlib.pyplot as plt"
   ]
  },
  {
   "cell_type": "markdown",
   "metadata": {
    "id": "7cjYNjaCrVtA"
   },
   "source": [
    "Import MNIST dataset\n",
    "\n",
    "\n",
    "---\n",
    "\n"
   ]
  },
  {
   "cell_type": "code",
   "execution_count": 2,
   "metadata": {
    "colab": {
     "base_uri": "https://localhost:8080/"
    },
    "id": "GOKshEf-i4DE",
    "outputId": "27cc2e6c-9d59-41f5-f259-9efef0c2a2c0"
   },
   "outputs": [
    {
     "name": "stderr",
     "output_type": "stream",
     "text": [
      "/usr/local/lib/python3.10/dist-packages/sklearn/datasets/_openml.py:968: FutureWarning: The default value of `parser` will change from `'liac-arff'` to `'auto'` in 1.4. You can set `parser='auto'` to silence this warning. Therefore, an `ImportError` will be raised from 1.4 if the dataset is dense and pandas is not installed. Note that the pandas parser may return different data types. See the Notes Section in fetch_openml's API doc for details.\n",
      "  warn(\n"
     ]
    },
    {
     "data": {
      "text/plain": [
       "dict_keys(['data', 'target', 'frame', 'categories', 'feature_names', 'target_names', 'DESCR', 'details', 'url'])"
      ]
     },
     "execution_count": 2,
     "metadata": {},
     "output_type": "execute_result"
    }
   ],
   "source": [
    "from sklearn.datasets import fetch_openml\n",
    "\n",
    "mnist = fetch_openml('mnist_784', version = 1, as_frame = False)\n",
    "mnist.keys()"
   ]
  },
  {
   "cell_type": "markdown",
   "metadata": {
    "id": "za2jvikFrZim"
   },
   "source": [
    "Separate in data(X) and target(y)\n",
    "\n",
    "\n",
    "---\n",
    "\n"
   ]
  },
  {
   "cell_type": "code",
   "execution_count": 3,
   "metadata": {
    "id": "bGMfezcOi8W5"
   },
   "outputs": [],
   "source": [
    "X, y = mnist['data'], mnist['target']"
   ]
  },
  {
   "cell_type": "code",
   "execution_count": 4,
   "metadata": {
    "colab": {
     "base_uri": "https://localhost:8080/"
    },
    "id": "kf0-uA3DSOdn",
    "outputId": "c2ce3e74-400b-466b-e55a-85dac69240ff"
   },
   "outputs": [
    {
     "name": "stdout",
     "output_type": "stream",
     "text": [
      "(70000, 784)\n"
     ]
    }
   ],
   "source": [
    "print(X.shape) #  70,000 samples and 784 features per sample"
   ]
  },
  {
   "cell_type": "markdown",
   "metadata": {
    "id": "mBGJp8fqSm0n"
   },
   "source": [
    "70,000 rows, with each row representing one flattened grayscale image of a handwritten digit. Each image is 28x28 pixels, and these are flattened into a 1D array of 784 features (28 pixels * 28 pixels = 784 features)."
   ]
  },
  {
   "cell_type": "code",
   "execution_count": 5,
   "metadata": {
    "colab": {
     "base_uri": "https://localhost:8080/"
    },
    "id": "PT-08AXESQNG",
    "outputId": "3b666dc2-eae4-4747-d33f-985cab29163d"
   },
   "outputs": [
    {
     "name": "stdout",
     "output_type": "stream",
     "text": [
      "(70000,)\n"
     ]
    }
   ],
   "source": [
    "print(y.shape) # 70,000 labels"
   ]
  },
  {
   "cell_type": "markdown",
   "metadata": {
    "id": "LHaQPVHvSUpn"
   },
   "source": [
    "'y' correspond to the labels of the images, where each label is the digit that the image represents. This array has 70,000 entries, one for each image."
   ]
  },
  {
   "cell_type": "markdown",
   "metadata": {
    "id": "eE3tvhgmrhxU"
   },
   "source": [
    "Plot the image one random number (remember to reshape)\n",
    "\n",
    "\n",
    "---\n",
    "\n"
   ]
  },
  {
   "cell_type": "code",
   "execution_count": 6,
   "metadata": {
    "colab": {
     "base_uri": "https://localhost:8080/",
     "height": 452
    },
    "id": "ak6JaUNajeL1",
    "outputId": "efddeccb-9b0f-4438-e6bd-572ba88f2f9d"
   },
   "outputs": [
    {
     "data": {
      "image/png": "[encoded data removed]",
      "text/plain": [
       "<Figure size 640x480 with 1 Axes>"
      ]
     },
     "metadata": {},
     "output_type": "display_data"
    }
   ],
   "source": [
    "random = random.randint(0, len(X) - 1) # counts the lenght of X and subtracts 1\n",
    "random_image = X[random].reshape(28, 28)\n",
    "\n",
    "plt.imshow(random_image, cmap = 'gray')\n",
    "plt.title(f'Label: {y[random]}')\n",
    "plt.show()"
   ]
  },
  {
   "cell_type": "markdown",
   "metadata": {
    "id": "TxvnH3BRrr7B"
   },
   "source": [
    "Split data in train (first 60,000) and test (the rest 10,000)\n",
    "\n",
    "\n",
    "\n",
    "---\n",
    "\n"
   ]
  },
  {
   "cell_type": "code",
   "execution_count": 7,
   "metadata": {
    "id": "MZWsRU1-j9cJ"
   },
   "outputs": [],
   "source": [
    "X_train = X[:60000]\n",
    "y_train = y[:60000]\n",
    "\n",
    "X_test = X[60000:]\n",
    "y_test = y[60000:]"
   ]
  },
  {
   "cell_type": "markdown",
   "metadata": {
    "id": "xtW_tSl6sDUe"
   },
   "source": [
    "### Train a kNN classifier\n",
    "\n",
    "Set parameters weights = 'distance' and n_neighbors = 4\n",
    "\n",
    "\n",
    "\n",
    "---\n",
    "\n"
   ]
  },
  {
   "cell_type": "code",
   "execution_count": 8,
   "metadata": {
    "colab": {
     "base_uri": "https://localhost:8080/",
     "height": 74
    },
    "id": "DyrnPEG1iN2B",
    "outputId": "587ddd90-66bb-4d72-8f1e-3c0e7118caaa"
   },
   "outputs": [
    {
     "data": {
      "text/html": [
       "<style>#sk-container-id-1 {color: black;background-color: white;}#sk-container-id-1 pre{padding: 0;}#sk-container-id-1 div.sk-toggleable {background-color: white;}#sk-container-id-1 label.sk-toggleable__label {cursor: pointer;display: block;width: 100%;margin-bottom: 0;padding: 0.3em;box-sizing: border-box;text-align: center;}#sk-container-id-1 label.sk-toggleable__label-arrow:before {content: \"▸\";float: left;margin-right: 0.25em;color: #696969;}#sk-container-id-1 label.sk-toggleable__label-arrow:hover:before {color: black;}#sk-container-id-1 div.sk-estimator:hover label.sk-toggleable__label-arrow:before {color: black;}#sk-container-id-1 div.sk-toggleable__content {max-height: 0;max-width: 0;overflow: hidden;text-align: left;background-color: #f0f8ff;}#sk-container-id-1 div.sk-toggleable__content pre {margin: 0.2em;color: black;border-radius: 0.25em;background-color: #f0f8ff;}#sk-container-id-1 input.sk-toggleable__control:checked~div.sk-toggleable__content {max-height: 200px;max-width: 100%;overflow: auto;}#sk-container-id-1 input.sk-toggleable__control:checked~label.sk-toggleable__label-arrow:before {content: \"▾\";}#sk-container-id-1 div.sk-estimator input.sk-toggleable__control:checked~label.sk-toggleable__label {background-color: #d4ebff;}#sk-container-id-1 div.sk-label input.sk-toggleable__control:checked~label.sk-toggleable__label {background-color: #d4ebff;}#sk-container-id-1 input.sk-hidden--visually {border: 0;clip: rect(1px 1px 1px 1px);clip: rect(1px, 1px, 1px, 1px);height: 1px;margin: -1px;overflow: hidden;padding: 0;position: absolute;width: 1px;}#sk-container-id-1 div.sk-estimator {font-family: monospace;background-color: #f0f8ff;border: 1px dotted black;border-radius: 0.25em;box-sizing: border-box;margin-bottom: 0.5em;}#sk-container-id-1 div.sk-estimator:hover {background-color: #d4ebff;}#sk-container-id-1 div.sk-parallel-item::after {content: \"\";width: 100%;border-bottom: 1px solid gray;flex-grow: 1;}#sk-container-id-1 div.sk-label:hover label.sk-toggleable__label {background-color: #d4ebff;}#sk-container-id-1 div.sk-serial::before {content: \"\";position: absolute;border-left: 1px solid gray;box-sizing: border-box;top: 0;bottom: 0;left: 50%;z-index: 0;}#sk-container-id-1 div.sk-serial {display: flex;flex-direction: column;align-items: center;background-color: white;padding-right: 0.2em;padding-left: 0.2em;position: relative;}#sk-container-id-1 div.sk-item {position: relative;z-index: 1;}#sk-container-id-1 div.sk-parallel {display: flex;align-items: stretch;justify-content: center;background-color: white;position: relative;}#sk-container-id-1 div.sk-item::before, #sk-container-id-1 div.sk-parallel-item::before {content: \"\";position: absolute;border-left: 1px solid gray;box-sizing: border-box;top: 0;bottom: 0;left: 50%;z-index: -1;}#sk-container-id-1 div.sk-parallel-item {display: flex;flex-direction: column;z-index: 1;position: relative;background-color: white;}#sk-container-id-1 div.sk-parallel-item:first-child::after {align-self: flex-end;width: 50%;}#sk-container-id-1 div.sk-parallel-item:last-child::after {align-self: flex-start;width: 50%;}#sk-container-id-1 div.sk-parallel-item:only-child::after {width: 0;}#sk-container-id-1 div.sk-dashed-wrapped {border: 1px dashed gray;margin: 0 0.4em 0.5em 0.4em;box-sizing: border-box;padding-bottom: 0.4em;background-color: white;}#sk-container-id-1 div.sk-label label {font-family: monospace;font-weight: bold;display: inline-block;line-height: 1.2em;}#sk-container-id-1 div.sk-label-container {text-align: center;}#sk-container-id-1 div.sk-container {/* jupyter's `normalize.less` sets `[hidden] { display: none; }` but bootstrap.min.css set `[hidden] { display: none !important; }` so we also need the `!important` here to be able to override the default hidden behavior on the sphinx rendered scikit-learn.org. See: https://github.com/scikit-learn/scikit-learn/issues/21755 */display: inline-block !important;position: relative;}#sk-container-id-1 div.sk-text-repr-fallback {display: none;}</style><div id=\"sk-container-id-1\" class=\"sk-top-container\"><div class=\"sk-text-repr-fallback\"><pre>KNeighborsClassifier(n_neighbors=4, weights=&#x27;distance&#x27;)</pre><b>In a Jupyter environment, please rerun this cell to show the HTML representation or trust the notebook. <br />On GitHub, the HTML representation is unable to render, please try loading this page with nbviewer.org.</b></div><div class=\"sk-container\" hidden><div class=\"sk-item\"><div class=\"sk-estimator sk-toggleable\"><input class=\"sk-toggleable__control sk-hidden--visually\" id=\"sk-estimator-id-1\" type=\"checkbox\" checked><label for=\"sk-estimator-id-1\" class=\"sk-toggleable__label sk-toggleable__label-arrow\">KNeighborsClassifier</label><div class=\"sk-toggleable__content\"><pre>KNeighborsClassifier(n_neighbors=4, weights=&#x27;distance&#x27;)</pre></div></div></div></div></div>"
      ],
      "text/plain": [
       "KNeighborsClassifier(n_neighbors=4, weights='distance')"
      ]
     },
     "execution_count": 8,
     "metadata": {},
     "output_type": "execute_result"
    }
   ],
   "source": [
    "from sklearn.neighbors import KNeighborsClassifier\n",
    "\n",
    "kNN_classifier = KNeighborsClassifier(n_neighbors = 4, weights = 'distance')\n",
    "\n",
    "kNN_classifier.fit(X_train, y_train)"
   ]
  },
  {
   "cell_type": "markdown",
   "metadata": {
    "id": "M3NdrTiOsGVK"
   },
   "source": [
    "Predict the test dataset and print the confusion matrix\n",
    "\n",
    "\n",
    "\n",
    "---\n",
    "\n"
   ]
  },
  {
   "cell_type": "code",
   "execution_count": 9,
   "metadata": {
    "id": "lLS751JallyT"
   },
   "outputs": [],
   "source": [
    "y_pred = kNN_classifier.predict(X_test)"
   ]
  },
  {
   "cell_type": "markdown",
   "metadata": {
    "id": "_hexjJsmszvT"
   },
   "source": [
    "Plot the confusion matrix\n",
    "\n",
    "\n",
    "\n",
    "---\n",
    "\n"
   ]
  },
  {
   "cell_type": "code",
   "execution_count": 10,
   "metadata": {
    "colab": {
     "base_uri": "https://localhost:8080/",
     "height": 492
    },
    "id": "ZLISi6NyWZOg",
    "outputId": "a278983f-03ca-4544-d3d7-40c1c0dc0d09"
   },
   "outputs": [
    {
     "data": {
      "image/png": "[encoded data removed]",
      "text/plain": [
       "<Figure size 640x480 with 2 Axes>"
      ]
     },
     "metadata": {},
     "output_type": "display_data"
    }
   ],
   "source": [
    "import seaborn as sns\n",
    "from sklearn.metrics import confusion_matrix\n",
    "\n",
    "cm = confusion_matrix(y_test, y_pred)\n",
    "\n",
    "# Etiquetas para los dígitos del MNIST (del 0 al 9)\n",
    "labels = [str(i) for i in range(10)]\n",
    "\n",
    "sns.heatmap(cm, annot = True, fmt = '3.0f', xticklabels = labels, yticklabels = labels, cmap = sns.cubehelix_palette(as_cmap = True))\n",
    "plt.xlabel('Predicted Labels')\n",
    "plt.ylabel('True Labels')\n",
    "plt.title('Confusion Matrix', y = 1.05, size = 15)\n",
    "plt.show()"
   ]
  },
  {
   "cell_type": "code",
   "execution_count": 11,
   "metadata": {
    "colab": {
     "base_uri": "https://localhost:8080/"
    },
    "id": "zf8H-WHUW9YS",
    "outputId": "72a24d78-1ffb-408c-9770-888f7a890504"
   },
   "outputs": [
    {
     "name": "stdout",
     "output_type": "stream",
     "text": [
      "Total number of correct predictions: 9714 of 10,000.\n"
     ]
    }
   ],
   "source": [
    "correct_predictions = np.trace(cm)\n",
    "print(\"Total number of correct predictions:\", correct_predictions, \"of 10,000.\")"
   ]
  },
  {
   "cell_type": "markdown",
   "metadata": {
    "id": "PHi7uD2osMb-"
   },
   "source": [
    "Print the the accuracy score, precision score, recall score, f1 score(for the last three use parameter average = None)\n",
    "\n",
    "\n",
    "\n",
    "---\n",
    "\n"
   ]
  },
  {
   "cell_type": "code",
   "execution_count": 12,
   "metadata": {
    "id": "r1VF5-yqY0Pa"
   },
   "outputs": [],
   "source": [
    "from sklearn.metrics import accuracy_score, precision_score, recall_score, f1_score"
   ]
  },
  {
   "cell_type": "markdown",
   "metadata": {
    "id": "fumkrfxPYW9n"
   },
   "source": [
    "- **Accuracy (Exactitud)**: Es la proporción de predicciones correctas entre el total de predicciones."
   ]
  },
  {
   "cell_type": "code",
   "execution_count": 13,
   "metadata": {
    "colab": {
     "base_uri": "https://localhost:8080/"
    },
    "id": "A8vPVbElnw3Y",
    "outputId": "91159fb1-10af-4d79-abc4-eef7cfb137e8"
   },
   "outputs": [
    {
     "name": "stdout",
     "output_type": "stream",
     "text": [
      "Accuracy: 0.9714\n"
     ]
    }
   ],
   "source": [
    "accuracy = accuracy_score(y_test, y_pred)\n",
    "print(\"Accuracy:\", accuracy)"
   ]
  },
  {
   "cell_type": "markdown",
   "metadata": {
    "id": "QAqO9HkhYZxQ"
   },
   "source": [
    "- **Precision (Precisión)**: Mide la exactitud de las predicciones positivas. En este contexto, sería la proporción de predicciones correctas para cada dígito sobre el total de predicciones para ese dígito."
   ]
  },
  {
   "cell_type": "code",
   "execution_count": 14,
   "metadata": {
    "colab": {
     "base_uri": "https://localhost:8080/"
    },
    "id": "Foo7WdwpYGLM",
    "outputId": "7ec85915-c142-4dcc-8960-bcd907bd8158"
   },
   "outputs": [
    {
     "name": "stdout",
     "output_type": "stream",
     "text": [
      "Precision: [0.973      0.96834902 0.98417409 0.96819085 0.97535934 0.96312849\n",
      " 0.97828335 0.95945946 0.98818475 0.95746785]\n"
     ]
    }
   ],
   "source": [
    "precision = precision_score(y_test, y_pred, average = None) # no usa promedio global, usa métricas para cada numero del 0 al 9\n",
    "print(\"Precision:\", precision)"
   ]
  },
  {
   "cell_type": "markdown",
   "metadata": {
    "id": "3aTvSxn_YdVo"
   },
   "source": [
    "\n",
    "- **Recall (Recuperación)**: Mide la capacidad del modelo para detectar todas las instancias positivas. En MNIST, sería cuántas instancias de cada dígito fueron correctamente identificadas."
   ]
  },
  {
   "cell_type": "code",
   "execution_count": 15,
   "metadata": {
    "colab": {
     "base_uri": "https://localhost:8080/"
    },
    "id": "9CQ7iD3DYHgA",
    "outputId": "49c12641-d81e-407b-90f4-087219d985e2"
   },
   "outputs": [
    {
     "name": "stdout",
     "output_type": "stream",
     "text": [
      "Recall: [0.99285714 0.99735683 0.96414729 0.96435644 0.96741344 0.96636771\n",
      " 0.9874739  0.96692607 0.94455852 0.95936571]\n"
     ]
    }
   ],
   "source": [
    "recall = recall_score(y_test, y_pred, average = None) # no usa promedio global, usa métricas para cada numero del 0 al 9\n",
    "print(\"Recall:\", recall)"
   ]
  },
  {
   "cell_type": "markdown",
   "metadata": {
    "id": "f2LP6GvdYffo"
   },
   "source": [
    "- **F1 Score**: Es el promedio armónico de la precisión y la recuperación, proporcionando un balance entre estas dos métricas."
   ]
  },
  {
   "cell_type": "code",
   "execution_count": 16,
   "metadata": {
    "colab": {
     "base_uri": "https://localhost:8080/"
    },
    "id": "4YVUwnZIYJZg",
    "outputId": "f708c907-ed94-4cb3-e0ac-52ec277baab9"
   },
   "outputs": [
    {
     "name": "stdout",
     "output_type": "stream",
     "text": [
      "F1 Score: [0.98282828 0.98263889 0.97405776 0.96626984 0.97137014 0.96474538\n",
      " 0.98285714 0.96317829 0.96587927 0.95841584]\n"
     ]
    }
   ],
   "source": [
    "f1 = f1_score(y_test, y_pred, average = None) # no usa promedio global, usa métricas para cada numero del 0 al 9\n",
    "print(\"F1 Score:\", f1)"
   ]
  },
  {
   "cell_type": "markdown",
   "metadata": {
    "id": "-nj98sAptALS"
   },
   "source": [
    "Import shift from scipy.ndimage.interpolation to do data aumentation in for directions dx and dy = ((1, 0), (-1, 0), (0, 1), (0, -1))\n",
    "\n",
    "\n",
    "\n",
    "---\n",
    "\n"
   ]
  },
  {
   "cell_type": "code",
   "execution_count": 17,
   "metadata": {
    "colab": {
     "base_uri": "https://localhost:8080/"
    },
    "id": "OVQToWTfC3Ow",
    "outputId": "f062bda3-d199-49fc-cf91-5cdcef8d387f"
   },
   "outputs": [
    {
     "name": "stderr",
     "output_type": "stream",
     "text": [
      "<ipython-input-17-0cadcd2dac8a>:1: DeprecationWarning: Please use `shift` from the `scipy.ndimage` namespace, the `scipy.ndimage.interpolation` namespace is deprecated.\n",
      "  from scipy.ndimage.interpolation import shift\n"
     ]
    }
   ],
   "source": [
    "from scipy.ndimage.interpolation import shift\n",
    "\n",
    "def shift_image(image, dx, dy):\n",
    "\n",
    "    image = image.reshape((28, 28))\n",
    "    shifted_image = shift(image, [dy, dx], cval = 0, mode = 'constant')\n",
    "    return shifted_image.reshape([-1])\n",
    "\n",
    "shifts = [(1, 0), (-1, 0), (0, 1), (0, -1)] # Directions to shift: up, down, left, right"
   ]
  },
  {
   "cell_type": "markdown",
   "metadata": {
    "id": "zRoI8QSRiZ47"
   },
   "source": [
    "Pasos:\n",
    "\n",
    "1. `image.reshape((28, 28))`: Como la imagen del MNIST viene aplanada (784 elementos en un array 1D), primero la reorganiza en una forma 2D de 28x28 píxeles para que se parezca a una imagen real.\n",
    "\n",
    "2. `shifted_image = shift(image, [dy, dx], cval = 0, mode = 'constant')`: Utiliza la función `shift` de `scipy.ndimage.interpolation` para desplazar la imagen. `[dy, dx]` indica cuántos píxeles mover la imagen en cada dirección. `cval = 0` configura los valores de los píxeles que entran en la imagen como resultado del desplazamiento a 0 (generalmente negro para imágenes en escala de grises). `mode = 'constant'` indica que los píxeles que se desplazan fuera de los bordes de la imagen se llenarán con un valor constante (en este caso, 0 debido a `cval = 0`).\n",
    "\n",
    "3. `return shifted_image.reshape([-1])`: La imagen desplazada se vuelve a aplanar a una matriz 1D antes de devolverla."
   ]
  },
  {
   "cell_type": "markdown",
   "metadata": {
    "id": "9iuF-AfiuiH_"
   },
   "source": [
    "Train a new classifier with the augmented data\n",
    "\n",
    "\n",
    "\n",
    "---\n",
    "\n"
   ]
  },
  {
   "cell_type": "markdown",
   "metadata": {
    "id": "OiZ_0RDamI2M"
   },
   "source": [
    "Construyendo el nuevo dataset augmentado..."
   ]
  },
  {
   "cell_type": "code",
   "execution_count": 18,
   "metadata": {
    "id": "3tISRePqqEzU"
   },
   "outputs": [],
   "source": [
    "augmented_images = [] # Lista que guardara cada imagen en 1D\n",
    "augmented_labels = [] # Lista que guardara cada label en 1D\n",
    "\n",
    "for dx, dy in shifts: # Itera sobre cada desplazamiento en shifts\n",
    "    for image, label in zip(X_train, y_train): # Itera sobre cada imagen, y etiqueta en X_train y y_train\n",
    "        shifted_image = shift_image(image, dx, dy) # Aplica el desplazamiento a cada imagen, usando la funcion ya definida\n",
    "        augmented_images.append(shifted_image) # Guarda la imagen 1D en la lista 1D\n",
    "        augmented_labels.append(label) # Guarda el label en la lista\n",
    "\n",
    "# Convierte las listas de datos aumentados en matrices\n",
    "augmented_images = np.array(augmented_images)\n",
    "augmented_labels = np.array(augmented_labels)\n",
    "\n",
    "# Combina datos originales y aumentados\n",
    "X_train_augmented = np.concatenate([X_train, augmented_images])\n",
    "y_train_augmented = np.concatenate([y_train, augmented_labels])"
   ]
  },
  {
   "cell_type": "markdown",
   "metadata": {
    "id": "5opHZD-Vk8bz"
   },
   "source": [
    "Pasamos de 70,000 a 240,000 samples, mismos features."
   ]
  },
  {
   "cell_type": "code",
   "execution_count": 19,
   "metadata": {
    "colab": {
     "base_uri": "https://localhost:8080/"
    },
    "id": "aoxHmppIke8j",
    "outputId": "7d21b4d7-be6d-4a1d-fe22-dccc215e1660"
   },
   "outputs": [
    {
     "name": "stdout",
     "output_type": "stream",
     "text": [
      "(240000, 784)\n"
     ]
    }
   ],
   "source": [
    "print(augmented_images.shape)"
   ]
  },
  {
   "cell_type": "markdown",
   "metadata": {
    "id": "Co1HCeEtlBlb"
   },
   "source": [
    "Tenemos nuestros 240,000 labels, que servirán como targets que ayudarán a verificar el si el modelo predijo de manera correcta cada número."
   ]
  },
  {
   "cell_type": "code",
   "execution_count": 20,
   "metadata": {
    "colab": {
     "base_uri": "https://localhost:8080/"
    },
    "id": "q_uptn3skxML",
    "outputId": "af35ae67-28ab-4357-ae92-c8d51bdb6ad7"
   },
   "outputs": [
    {
     "name": "stdout",
     "output_type": "stream",
     "text": [
      "(240000,)\n"
     ]
    }
   ],
   "source": [
    "print(augmented_labels.shape)"
   ]
  },
  {
   "cell_type": "code",
   "execution_count": 21,
   "metadata": {
    "colab": {
     "base_uri": "https://localhost:8080/",
     "height": 74
    },
    "id": "uCsxPPyxacfS",
    "outputId": "ff645989-1fe7-4aae-efe7-a44ee5be5800"
   },
   "outputs": [
    {
     "data": {
      "text/html": [
       "<style>#sk-container-id-2 {color: black;background-color: white;}#sk-container-id-2 pre{padding: 0;}#sk-container-id-2 div.sk-toggleable {background-color: white;}#sk-container-id-2 label.sk-toggleable__label {cursor: pointer;display: block;width: 100%;margin-bottom: 0;padding: 0.3em;box-sizing: border-box;text-align: center;}#sk-container-id-2 label.sk-toggleable__label-arrow:before {content: \"▸\";float: left;margin-right: 0.25em;color: #696969;}#sk-container-id-2 label.sk-toggleable__label-arrow:hover:before {color: black;}#sk-container-id-2 div.sk-estimator:hover label.sk-toggleable__label-arrow:before {color: black;}#sk-container-id-2 div.sk-toggleable__content {max-height: 0;max-width: 0;overflow: hidden;text-align: left;background-color: #f0f8ff;}#sk-container-id-2 div.sk-toggleable__content pre {margin: 0.2em;color: black;border-radius: 0.25em;background-color: #f0f8ff;}#sk-container-id-2 input.sk-toggleable__control:checked~div.sk-toggleable__content {max-height: 200px;max-width: 100%;overflow: auto;}#sk-container-id-2 input.sk-toggleable__control:checked~label.sk-toggleable__label-arrow:before {content: \"▾\";}#sk-container-id-2 div.sk-estimator input.sk-toggleable__control:checked~label.sk-toggleable__label {background-color: #d4ebff;}#sk-container-id-2 div.sk-label input.sk-toggleable__control:checked~label.sk-toggleable__label {background-color: #d4ebff;}#sk-container-id-2 input.sk-hidden--visually {border: 0;clip: rect(1px 1px 1px 1px);clip: rect(1px, 1px, 1px, 1px);height: 1px;margin: -1px;overflow: hidden;padding: 0;position: absolute;width: 1px;}#sk-container-id-2 div.sk-estimator {font-family: monospace;background-color: #f0f8ff;border: 1px dotted black;border-radius: 0.25em;box-sizing: border-box;margin-bottom: 0.5em;}#sk-container-id-2 div.sk-estimator:hover {background-color: #d4ebff;}#sk-container-id-2 div.sk-parallel-item::after {content: \"\";width: 100%;border-bottom: 1px solid gray;flex-grow: 1;}#sk-container-id-2 div.sk-label:hover label.sk-toggleable__label {background-color: #d4ebff;}#sk-container-id-2 div.sk-serial::before {content: \"\";position: absolute;border-left: 1px solid gray;box-sizing: border-box;top: 0;bottom: 0;left: 50%;z-index: 0;}#sk-container-id-2 div.sk-serial {display: flex;flex-direction: column;align-items: center;background-color: white;padding-right: 0.2em;padding-left: 0.2em;position: relative;}#sk-container-id-2 div.sk-item {position: relative;z-index: 1;}#sk-container-id-2 div.sk-parallel {display: flex;align-items: stretch;justify-content: center;background-color: white;position: relative;}#sk-container-id-2 div.sk-item::before, #sk-container-id-2 div.sk-parallel-item::before {content: \"\";position: absolute;border-left: 1px solid gray;box-sizing: border-box;top: 0;bottom: 0;left: 50%;z-index: -1;}#sk-container-id-2 div.sk-parallel-item {display: flex;flex-direction: column;z-index: 1;position: relative;background-color: white;}#sk-container-id-2 div.sk-parallel-item:first-child::after {align-self: flex-end;width: 50%;}#sk-container-id-2 div.sk-parallel-item:last-child::after {align-self: flex-start;width: 50%;}#sk-container-id-2 div.sk-parallel-item:only-child::after {width: 0;}#sk-container-id-2 div.sk-dashed-wrapped {border: 1px dashed gray;margin: 0 0.4em 0.5em 0.4em;box-sizing: border-box;padding-bottom: 0.4em;background-color: white;}#sk-container-id-2 div.sk-label label {font-family: monospace;font-weight: bold;display: inline-block;line-height: 1.2em;}#sk-container-id-2 div.sk-label-container {text-align: center;}#sk-container-id-2 div.sk-container {/* jupyter's `normalize.less` sets `[hidden] { display: none; }` but bootstrap.min.css set `[hidden] { display: none !important; }` so we also need the `!important` here to be able to override the default hidden behavior on the sphinx rendered scikit-learn.org. See: https://github.com/scikit-learn/scikit-learn/issues/21755 */display: inline-block !important;position: relative;}#sk-container-id-2 div.sk-text-repr-fallback {display: none;}</style><div id=\"sk-container-id-2\" class=\"sk-top-container\"><div class=\"sk-text-repr-fallback\"><pre>KNeighborsClassifier(n_neighbors=4, weights=&#x27;distance&#x27;)</pre><b>In a Jupyter environment, please rerun this cell to show the HTML representation or trust the notebook. <br />On GitHub, the HTML representation is unable to render, please try loading this page with nbviewer.org.</b></div><div class=\"sk-container\" hidden><div class=\"sk-item\"><div class=\"sk-estimator sk-toggleable\"><input class=\"sk-toggleable__control sk-hidden--visually\" id=\"sk-estimator-id-2\" type=\"checkbox\" checked><label for=\"sk-estimator-id-2\" class=\"sk-toggleable__label sk-toggleable__label-arrow\">KNeighborsClassifier</label><div class=\"sk-toggleable__content\"><pre>KNeighborsClassifier(n_neighbors=4, weights=&#x27;distance&#x27;)</pre></div></div></div></div></div>"
      ],
      "text/plain": [
       "KNeighborsClassifier(n_neighbors=4, weights='distance')"
      ]
     },
     "execution_count": 21,
     "metadata": {},
     "output_type": "execute_result"
    }
   ],
   "source": [
    "kNN_classifier_augmented = KNeighborsClassifier(n_neighbors = 4, weights = 'distance')\n",
    "\n",
    "kNN_classifier_augmented.fit(X_train_augmented, y_train_augmented)"
   ]
  },
  {
   "cell_type": "markdown",
   "metadata": {
    "id": "U2v9gOSlurcR"
   },
   "source": [
    "Predict with test dataset\n",
    "\n",
    "\n",
    "\n",
    "---\n",
    "\n"
   ]
  },
  {
   "cell_type": "code",
   "execution_count": 22,
   "metadata": {
    "id": "2J4xdfynqQJT"
   },
   "outputs": [],
   "source": [
    "y_pred_augmented = kNN_classifier_augmented.predict(X_test)"
   ]
  },
  {
   "cell_type": "markdown",
   "metadata": {
    "id": "_KmBs3bxu1MI"
   },
   "source": [
    "Calculate the accuracy score, print confusion matrix and plot confusion matrix\n",
    "\n",
    "\n",
    "\n",
    "---\n",
    "\n"
   ]
  },
  {
   "cell_type": "code",
   "execution_count": 23,
   "metadata": {
    "colab": {
     "base_uri": "https://localhost:8080/",
     "height": 492
    },
    "id": "2tNbcbYxqYkz",
    "outputId": "ab4d8547-7ec9-4495-facc-09bb81724af9"
   },
   "outputs": [
    {
     "data": {
      "image/png": "[encoded data removed]",
      "text/plain": [
       "<Figure size 640x480 with 2 Axes>"
      ]
     },
     "metadata": {},
     "output_type": "display_data"
    }
   ],
   "source": [
    "cm_augmented = confusion_matrix(y_test, y_pred_augmented)\n",
    "\n",
    "# Etiquetas para los dígitos del MNIST (del 0 al 9)\n",
    "labels = [str(i) for i in range(10)]\n",
    "\n",
    "sns.heatmap(cm_augmented, annot = True, fmt = '3.0f', xticklabels = labels, yticklabels = labels, cmap = sns.cubehelix_palette(as_cmap = True))\n",
    "plt.xlabel('Predicted Labels')\n",
    "plt.ylabel('True Labels')\n",
    "plt.title('Confusion Matrix', y = 1.05, size = 15)\n",
    "plt.show()"
   ]
  },
  {
   "cell_type": "code",
   "execution_count": 24,
   "metadata": {
    "colab": {
     "base_uri": "https://localhost:8080/"
    },
    "id": "jzvDmvwhb985",
    "outputId": "8302a761-f37d-4985-fafa-d7811654a841"
   },
   "outputs": [
    {
     "name": "stdout",
     "output_type": "stream",
     "text": [
      "Total number of correct predictions: 9763 of 10,000.\n"
     ]
    }
   ],
   "source": [
    "correct_predictions_augmented = np.trace(cm_augmented)\n",
    "print(\"Total number of correct predictions:\", correct_predictions_augmented, \"of 10,000.\")"
   ]
  },
  {
   "cell_type": "code",
   "execution_count": 25,
   "metadata": {
    "colab": {
     "base_uri": "https://localhost:8080/"
    },
    "id": "S8h1xZc_cFEx",
    "outputId": "dc76dbd2-cfae-4f81-c47d-fe1b22e28082"
   },
   "outputs": [
    {
     "name": "stdout",
     "output_type": "stream",
     "text": [
      "Accuracy: 0.9763\n"
     ]
    }
   ],
   "source": [
    "accuracy_augmented = accuracy_score(y_test, y_pred_augmented)\n",
    "print(\"Accuracy:\", accuracy_augmented)"
   ]
  },
  {
   "cell_type": "code",
   "execution_count": 26,
   "metadata": {
    "colab": {
     "base_uri": "https://localhost:8080/"
    },
    "id": "VCxIY-18cKob",
    "outputId": "08786043-9e63-4827-c4ac-e6de9ebbc7b5"
   },
   "outputs": [
    {
     "name": "stdout",
     "output_type": "stream",
     "text": [
      "Precision: [0.98086606 0.96504689 0.98624754 0.97628458 0.9814433  0.97203579\n",
      " 0.984375   0.96689387 0.99252935 0.96062992]\n"
     ]
    }
   ],
   "source": [
    "precision_augmented = precision_score(y_test, y_pred_augmented, average = None) # no usa promedio global, usa métricas para cada numero del 0 al 9\n",
    "print(\"Precision:\", precision_augmented)"
   ]
  },
  {
   "cell_type": "code",
   "execution_count": 27,
   "metadata": {
    "colab": {
     "base_uri": "https://localhost:8080/"
    },
    "id": "jc4P9m4QcQ_b",
    "outputId": "d66c5937-1643-4c20-c1ac-46e4f9526bfb"
   },
   "outputs": [
    {
     "name": "stdout",
     "output_type": "stream",
     "text": [
      "Recall: [0.99387755 0.99735683 0.97286822 0.97821782 0.9694501  0.97421525\n",
      " 0.98643006 0.96595331 0.95482546 0.96729435]\n"
     ]
    }
   ],
   "source": [
    "recall_augmented = recall_score(y_test, y_pred_augmented, average = None) # no usa promedio global, usa métricas para cada numero del 0 al 9\n",
    "print(\"Recall:\", recall_augmented)"
   ]
  },
  {
   "cell_type": "code",
   "execution_count": 28,
   "metadata": {
    "colab": {
     "base_uri": "https://localhost:8080/"
    },
    "id": "3JukLcWocVxC",
    "outputId": "b1142e76-2887-4e93-e877-cd705b279562"
   },
   "outputs": [
    {
     "name": "stdout",
     "output_type": "stream",
     "text": [
      "F1 Score: [0.98732894 0.98093588 0.9795122  0.97725025 0.97540984 0.9731243\n",
      " 0.98540146 0.96642336 0.9733124  0.96395062]\n"
     ]
    }
   ],
   "source": [
    "f1_augmented = f1_score(y_test, y_pred_augmented, average = None) # no usa promedio global, usa métricas para cada numero del 0 al 9\n",
    "print(\"F1 Score:\", f1_augmented)"
   ]
  },
  {
   "cell_type": "markdown",
   "metadata": {
    "id": "AD10hwUbo5WM"
   },
   "source": [
    "### Dataset: MINST, Model: kNN, Without data augmentation, 70000 samples\n",
    "\n",
    "```\n",
    "Total number of correct predictions: 9714 of 10,000.\n",
    "```\n",
    "\n",
    "### Dataset: MINST, Model: kNN With data augmentation, 240000 samples\n",
    "\n",
    "```\n",
    "Total number of correct predictions: 9763 of 10,000.\n",
    "```\n",
    "\n"
   ]
  },
  {
   "cell_type": "markdown",
   "metadata": {
    "id": "lCP5Eb2zfSE6"
   },
   "source": [
    "En este caso estamos utilizando el mismo conjunto de datos de prueba (`X_test`) que se utilizó para evaluar el clasificador kNN original. El propósito de usar el mismo `X_test` es comparar el rendimiento del clasificador entrenado con los datos originales frente al clasificador entrenado con datos aumentados, manteniendo constante el conjunto de prueba.\n",
    "\n",
    "La idea es evaluar cómo la augmentación de datos (en este caso, desplazamientos de imagen) en el conjunto de entrenamiento afecta la capacidad del modelo para generalizar a datos no vistos. Lo que mejoró un 0.504% el rendimiento, la augmentación ha ayudado al modelo a aprender características más robustas y generalizables."
   ]
  }
 ],
 "metadata": {
  "colab": {
   "provenance": []
  },
  "kernelspec": {
   "display_name": "Python 3 (ipykernel)",
   "language": "python",
   "name": "python3"
  },
  "language_info": {
   "codemirror_mode": {
    "name": "ipython",
    "version": 3
   },
   "file_extension": ".py",
   "mimetype": "text/x-python",
   "name": "python",
   "nbconvert_exporter": "python",
   "pygments_lexer": "ipython3",
   "version": "3.9.12"
  }
 },
 "nbformat": 4,
 "nbformat_minor": 1
}
